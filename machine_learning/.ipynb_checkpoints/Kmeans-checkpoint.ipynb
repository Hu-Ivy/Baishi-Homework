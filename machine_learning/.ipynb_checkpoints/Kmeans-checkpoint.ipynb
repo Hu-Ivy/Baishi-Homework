{
 "cells": [
  {
   "cell_type": "code",
   "execution_count": 8,
   "metadata": {},
   "outputs": [],
   "source": [
    "import numpy as np \n",
    "import matplotlib.pyplot as plt\n",
    "\n",
    "from sklearn.datasets.samples_generator import make_blobs\n",
    "from scipy.spatial.distance import cdist"
   ]
  },
  {
   "cell_type": "markdown",
   "metadata": {},
   "source": [
    "# read data"
   ]
  },
  {
   "cell_type": "code",
   "execution_count": 2,
   "metadata": {},
   "outputs": [],
   "source": [
    "x,y=make_blobs(n_samples=100,centers=6,random_state=1234,cluster_std=0.6)"
   ]
  },
  {
   "cell_type": "code",
   "execution_count": 7,
   "metadata": {},
   "outputs": [
    {
     "data": {
      "image/png": "[encoded data removed]",
      "text/plain": [
       "<Figure size 432x432 with 1 Axes>"
      ]
     },
     "metadata": {
      "needs_background": "light"
     },
     "output_type": "display_data"
    }
   ],
   "source": [
    "plt.figure(figsize=(6,6))\n",
    "plt.scatter(x[:,0],x[:,1],c=y)\n",
    "plt.show()"
   ]
  },
  {
   "cell_type": "markdown",
   "metadata": {},
   "source": [
    "# algorithm"
   ]
  },
  {
   "cell_type": "code",
   "execution_count": 9,
   "metadata": {},
   "outputs": [],
   "source": [
    "class K_Means:\n",
    "    \n",
    "    def __init__(self,n_clusters=6,max_iter=300,centroids=[]):\n",
    "        self.n_clusters=n_clusters\n",
    "        self.max_iter=max_iter\n",
    "        self.centroids=np.array(centroids,dtype=np.float)\n",
    "        \n",
    "    #model \n",
    "    def fit(self, data):\n",
    "        #if no centroids random choose \n",
    "        if self.centroids.shape==(0,):\n",
    "            self.centroids=data[np.random.randint(0,data.shape[0],self.n_clusters),:]\n",
    "            \n",
    "        #start iteration\n",
    "        for i in range(self.max_iter):\n",
    "            #calculate distance metrix\n",
    "            distances=cdist(data,self.centroids)\n",
    "            \n",
    "            #sort the distance,choose the neareast one\n",
    "            c_ind=np.argmin(distances, axis=1)\n",
    "            \n",
    "            #update the centorids\n",
    "            for i in range(self.n_clusters):\n",
    "                #exclude the point which is not in c_ind\n",
    "                if i in c_ind:\n",
    "                    self.centroids[i]=np.mean(data[c_ind==i],axis=0)\n",
    "            \n",
    "    #predict function\n",
    "    def predict(self,samples):\n",
    "        distances=cdist(samples,self.centroids)\n",
    "        y_pred=np.argmin(distances)\n",
    "        \n",
    "        return y_pred\n",
    "                    "
   ]
  },
  {
   "cell_type": "markdown",
   "metadata": {},
   "source": [
    "# test algorithm"
   ]
  },
  {
   "cell_type": "code",
   "execution_count": 11,
   "metadata": {},
   "outputs": [],
   "source": [
    "#define plot function\n",
    "def plotKmeans(x,y,centroids,subplot,title):\n",
    "    plt.subplot(subplot)\n",
    "    plt.scatter(x[:,0],x[:,1],c='r')\n",
    "    \n",
    "    #plot centroids\n",
    "    plt.scatter(centroids[:,0],centroids[:,1],c=np.array(range(6)),s=100)\n",
    "    plt.title=title\n",
    "    "
   ]
  },
  {
   "cell_type": "code",
   "execution_count": null,
   "metadata": {},
   "outputs": [],
   "source": [
    "kmeans=K_Means()\n"
   ]
  }
 ],
 "metadata": {
  "kernelspec": {
   "display_name": "hxy",
   "language": "python",
   "name": "hxy"
  },
  "language_info": {
   "codemirror_mode": {
    "name": "ipython",
    "version": 3
   },
   "file_extension": ".py",
   "mimetype": "text/x-python",
   "name": "python",
   "nbconvert_exporter": "python",
   "pygments_lexer": "ipython3",
   "version": "3.8.3"
  },
  "toc": {
   "base_numbering": 1,
   "nav_menu": {},
   "number_sections": true,
   "sideBar": true,
   "skip_h1_title": false,
   "title_cell": "Table of Contents",
   "title_sidebar": "Contents",
   "toc_cell": false,
   "toc_position": {},
   "toc_section_display": true,
   "toc_window_display": false
  },
  "varInspector": {
   "cols": {
    "lenName": 16,
    "lenType": 16,
    "lenVar": 40
   },
   "kernels_config": {
    "python": {
     "delete_cmd_postfix": "",
     "delete_cmd_prefix": "del ",
     "library": "var_list.py",
     "varRefreshCmd": "print(var_dic_list())"
    },
    "r": {
     "delete_cmd_postfix": ") ",
     "delete_cmd_prefix": "rm(",
     "library": "var_list.r",
     "varRefreshCmd": "cat(var_dic_list()) "
    }
   },
   "position": {
    "height": "338.85px",
    "left": "2643px",
    "right": "235px",
    "top": "210px",
    "width": "589px"
   },
   "types_to_exclude": [
    "module",
    "function",
    "builtin_function_or_method",
    "instance",
    "_Feature"
   ],
   "window_display": true
  }
 },
 "nbformat": 4,
 "nbformat_minor": 4
}
