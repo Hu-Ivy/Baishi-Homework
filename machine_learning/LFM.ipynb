{
 "cells": [
  {
   "cell_type": "code",
   "execution_count": 1,
   "metadata": {},
   "outputs": [],
   "source": [
    "import numpy as np\n",
    "import pandas as pd \n"
   ]
  },
  {
   "cell_type": "markdown",
   "metadata": {},
   "source": [
    "# data"
   ]
  },
  {
   "cell_type": "code",
   "execution_count": 2,
   "metadata": {},
   "outputs": [],
   "source": [
    "R = np.array([[4,0,2,0,1],\n",
    "             [0,2,3,0,0],\n",
    "             [1,0,2,4,0],\n",
    "             [5,0,0,3,1],\n",
    "             [0,0,1,5,1],\n",
    "             [0,3,2,4,1],])"
   ]
  },
  {
   "cell_type": "markdown",
   "metadata": {},
   "source": [
    "# algorithm"
   ]
  },
  {
   "cell_type": "code",
   "execution_count": 3,
   "metadata": {},
   "outputs": [
    {
     "data": {
      "text/plain": [
       "'\\nR\\nK\\nsteps\\nalpha\\nlamda\\n\\n\\noutput:\\nP*Q\\n\\n'"
      ]
     },
     "execution_count": 3,
     "metadata": {},
     "output_type": "execute_result"
    }
   ],
   "source": [
    "\"\"\"\n",
    "R\n",
    "K\n",
    "steps\n",
    "alpha\n",
    "lamda\n",
    "\n",
    "\n",
    "output:\n",
    "P*Q\n",
    "\n",
    "\"\"\""
   ]
  },
  {
   "cell_type": "code",
   "execution_count": 4,
   "metadata": {},
   "outputs": [],
   "source": [
    "K=2\n",
    "max_iter=5000\n",
    "alpha=0.00002\n",
    "lamda=0.0004\n"
   ]
  },
  {
   "cell_type": "code",
   "execution_count": 21,
   "metadata": {},
   "outputs": [],
   "source": [
    "def LFM_grad_desc(R,K=2,max_iter=1000,alpha=0.0001,lamda=0.002):\n",
    "    M=len(R)\n",
    "    N=len(R[0])\n",
    "    \n",
    "    P=np.random.rand(M,K)\n",
    "    Q=np.random.rand(N,K)\n",
    "    Q=Q.T\n",
    "    #start iter\n",
    "    for step in range(max_iter):\n",
    "        for u in range(M):\n",
    "            for i in range(N):\n",
    "                if R[u][i]>0:\n",
    "                    eui=np.dot(P[u,:],Q[:,i])-R[u][i]\n",
    "                    for k in range(K):\n",
    "                        P[u][k]=P[u][k]-alpha*(2*eui*Q[k][i]+2*lamda*P[u][k])\n",
    "                        Q[k][i]=Q[k][i]-alpha*(2*eui*P[u][k]+2*lamda*Q[k][i])\n",
    "                        \n",
    "\n",
    "        cost = 0\n",
    "        for u in range(M):\n",
    "            for i in range(N):\n",
    "                if R[u][i] > 0:\n",
    "                    cost += ( np.dot( P[u,:], Q[:,i] ) - R[u][i] ) ** 2\n",
    "                    # 加上正则化项\n",
    "                    for k in range(K):\n",
    "                        cost += lamda * ( P[u][k] ** 2 + Q[k][i] ** 2 )\n",
    "        if cost < 0.0001:\n",
    "            break\n",
    "    \n",
    "    return P,Q.T,cost"
   ]
  },
  {
   "cell_type": "code",
   "execution_count": 22,
   "metadata": {},
   "outputs": [
    {
     "name": "stdout",
     "output_type": "stream",
     "text": [
      "[[1.05376323 1.27414167]\n",
      " [1.36742843 0.39205407]\n",
      " [1.29686186 0.63157545]\n",
      " [1.03447427 1.48513412]\n",
      " [0.86908028 1.14893587]\n",
      " [1.01776442 1.23303216]]\n",
      "[[0.95753874 1.59476233]\n",
      " [0.70521084 1.2260704 ]\n",
      " [1.45202167 0.41116575]\n",
      " [1.67372367 1.67415327]\n",
      " [0.7369553  0.23524741]]\n",
      "12.194721215036504\n",
      "[[4 0 2 0 1]\n",
      " [0 2 3 0 0]\n",
      " [1 0 2 4 0]\n",
      " [5 0 0 3 1]\n",
      " [0 0 1 5 1]\n",
      " [0 3 2 4 1]]\n"
     ]
    },
    {
     "data": {
      "text/plain": [
       "array([[3.04097226, 2.30531264, 2.05397047, 3.89681692, 1.07631492],\n",
       "       [1.93459876, 1.44501123, 2.14673492, 2.94505593, 1.09996333],\n",
       "       [2.24900822, 1.68891701, 2.14275373, 3.22794251, 1.10430571],\n",
       "       [3.35898514, 2.55040145, 2.11271535, 4.21776622, 1.11173525],\n",
       "       [2.66445769, 2.0215611 , 1.73432648, 3.37809499, 0.9107575 ],\n",
       "       [2.94094211, 2.22952274, 1.9847966 , 3.76774124, 1.04011451]])"
      ]
     },
     "execution_count": 22,
     "metadata": {},
     "output_type": "execute_result"
    }
   ],
   "source": [
    "P, Q, cost = LFM_grad_desc(R, K, max_iter, alpha, lamda)\n",
    "\n",
    "print(P)\n",
    "print(Q)\n",
    "print(cost)\n",
    "\n",
    "predR = P.dot(Q.T)\n",
    "\n",
    "print(R)\n",
    "predR"
   ]
  },
  {
   "cell_type": "code",
   "execution_count": null,
   "metadata": {},
   "outputs": [],
   "source": []
  }
 ],
 "metadata": {
  "kernelspec": {
   "display_name": "hxy",
   "language": "python",
   "name": "hxy"
  },
  "language_info": {
   "codemirror_mode": {
    "name": "ipython",
    "version": 3
   },
   "file_extension": ".py",
   "mimetype": "text/x-python",
   "name": "python",
   "nbconvert_exporter": "python",
   "pygments_lexer": "ipython3",
   "version": "3.8.3"
  },
  "toc": {
   "base_numbering": 1,
   "nav_menu": {},
   "number_sections": true,
   "sideBar": true,
   "skip_h1_title": false,
   "title_cell": "Table of Contents",
   "title_sidebar": "Contents",
   "toc_cell": false,
   "toc_position": {},
   "toc_section_display": true,
   "toc_window_display": false
  },
  "varInspector": {
   "cols": {
    "lenName": 16,
    "lenType": 16,
    "lenVar": 40
   },
   "kernels_config": {
    "python": {
     "delete_cmd_postfix": "",
     "delete_cmd_prefix": "del ",
     "library": "var_list.py",
     "varRefreshCmd": "print(var_dic_list())"
    },
    "r": {
     "delete_cmd_postfix": ") ",
     "delete_cmd_prefix": "rm(",
     "library": "var_list.r",
     "varRefreshCmd": "cat(var_dic_list()) "
    }
   },
   "position": {
    "height": "339.85px",
    "left": "2279px",
    "right": "457px",
    "top": "145px",
    "width": "461px"
   },
   "types_to_exclude": [
    "module",
    "function",
    "builtin_function_or_method",
    "instance",
    "_Feature"
   ],
   "window_display": true
  }
 },
 "nbformat": 4,
 "nbformat_minor": 4
}
